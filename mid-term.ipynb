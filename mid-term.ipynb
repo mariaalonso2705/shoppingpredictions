{
 "cells": [
  {
   "cell_type": "code",
   "execution_count": 315,
   "metadata": {},
   "outputs": [],
   "source": [
    "import pandas as pd\n",
    "import numpy as np\n",
    "import matplotlib.pyplot as plt\n",
    "pd.options.mode.chained_assignment = None "
   ]
  },
  {
   "cell_type": "code",
   "execution_count": 316,
   "metadata": {},
   "outputs": [
    {
     "name": "stdout",
     "output_type": "stream",
     "text": [
      "      0  1  2\n",
      "0     1  2  1\n",
      "1     0  2  3\n",
      "2     0  2  2\n",
      "3     0  2  3\n",
      "4     1  0  1\n",
      "...  .. .. ..\n",
      "1383  1  1  2\n",
      "1384  1  0  3\n",
      "1385  1  0  3\n",
      "1386  0  2  0\n",
      "1387  0  2  0\n",
      "\n",
      "[1388 rows x 3 columns]\n"
     ]
    }
   ],
   "source": [
    "supermarketData = pd.read_csv(\n",
    "    'midterm2021.php.txt', sep=\" \",header=None, delimiter=\",\")\n",
    "print(supermarketData)"
   ]
  },
  {
   "cell_type": "markdown",
   "metadata": {},
   "source": [
    "##  Question 1"
   ]
  },
  {
   "cell_type": "markdown",
   "metadata": {},
   "source": [
    "### Question 1a"
   ]
  },
  {
   "cell_type": "code",
   "execution_count": 317,
   "metadata": {},
   "outputs": [
    {
     "name": "stdout",
     "output_type": "stream",
     "text": [
      "      total\n",
      "0         4\n",
      "1         5\n",
      "2         4\n",
      "3         5\n",
      "4         2\n",
      "...     ...\n",
      "1383      4\n",
      "1384      4\n",
      "1385      4\n",
      "1386      2\n",
      "1387      2\n",
      "\n",
      "[1388 rows x 1 columns]\n"
     ]
    }
   ],
   "source": [
    "sum = pd.DataFrame(supermarketData.sum(axis=1))\n",
    "sum.columns = ['total']\n",
    "print(sum)"
   ]
  },
  {
   "cell_type": "code",
   "execution_count": 318,
   "metadata": {},
   "outputs": [
    {
     "name": "stdout",
     "output_type": "stream",
     "text": [
      "3    375\n",
      "4    335\n",
      "2    243\n",
      "5    225\n",
      "6    108\n",
      "1    102\n",
      "Name: total, dtype: int64\n"
     ]
    }
   ],
   "source": [
    "pmf = sum['total'].value_counts()\n",
    "print (pmf)"
   ]
  },
  {
   "cell_type": "code",
   "execution_count": 319,
   "metadata": {},
   "outputs": [
    {
     "name": "stdout",
     "output_type": "stream",
     "text": [
      "      total\n",
      "3  0.270173\n",
      "4  0.241354\n",
      "2  0.175072\n",
      "5  0.162104\n",
      "6  0.077810\n",
      "1  0.073487\n"
     ]
    },
    {
     "data": {
      "text/plain": [
       "<matplotlib.axes._subplots.AxesSubplot at 0x177e2127848>"
      ]
     },
     "execution_count": 319,
     "metadata": {},
     "output_type": "execute_result"
    },
    {
     "data": {
      "image/png": "[encoded data removed]",
      "text/plain": [
       "<Figure size 432x288 with 1 Axes>"
      ]
     },
     "metadata": {
      "needs_background": "light"
     },
     "output_type": "display_data"
    }
   ],
   "source": [
    "probabilities = pd.DataFrame(pmf.div(pmf.sum()))\n",
    "print (probabilities)\n",
    "probabilities.plot.hist(bins=6)"
   ]
  },
  {
   "cell_type": "markdown",
   "metadata": {},
   "source": [
    "## Question 1b"
   ]
  },
  {
   "cell_type": "code",
   "execution_count": 320,
   "metadata": {},
   "outputs": [
    {
     "name": "stdout",
     "output_type": "stream",
     "text": [
      "Probability of values in first column\n"
     ]
    },
    {
     "data": {
      "text/plain": [
       "1    0.501441\n",
       "0    0.498559\n",
       "Name: 0, dtype: float64"
      ]
     },
     "execution_count": 320,
     "metadata": {},
     "output_type": "execute_result"
    }
   ],
   "source": [
    "print(\"Probability of values in first column\")\n",
    "supermarketData[0].value_counts().div(pmf.sum())"
   ]
  },
  {
   "cell_type": "code",
   "execution_count": 321,
   "metadata": {},
   "outputs": [
    {
     "name": "stdout",
     "output_type": "stream",
     "text": [
      "Expected Value\n"
     ]
    },
    {
     "data": {
      "text/plain": [
       "0.501441"
      ]
     },
     "execution_count": 321,
     "metadata": {},
     "output_type": "execute_result"
    }
   ],
   "source": [
    "print(\"Expected Value\")\n",
    "expected_value =(0.501441 * 1) + (0.498559 * 0)\n",
    "expected_value"
   ]
  },
  {
   "cell_type": "markdown",
   "metadata": {},
   "source": [
    "## Question 1c"
   ]
  },
  {
   "cell_type": "code",
   "execution_count": 322,
   "metadata": {},
   "outputs": [
    {
     "data": {
      "text/plain": [
       "1    696\n",
       "0    692\n",
       "Name: 0, dtype: int64"
      ]
     },
     "execution_count": 322,
     "metadata": {},
     "output_type": "execute_result"
    }
   ],
   "source": [
    "supermarketData[0].value_counts()"
   ]
  },
  {
   "cell_type": "code",
   "execution_count": 323,
   "metadata": {},
   "outputs": [
    {
     "data": {
      "text/plain": [
       "0.018897830125432724"
      ]
     },
     "execution_count": 323,
     "metadata": {},
     "output_type": "execute_result"
    }
   ],
   "source": [
    "total1 = 696\n",
    "sd = np.sqrt(((1-expected_value)**2)/total1)\n",
    "sd"
   ]
  },
  {
   "cell_type": "code",
   "execution_count": 324,
   "metadata": {},
   "outputs": [
    {
     "name": "stdout",
     "output_type": "stream",
     "text": [
      "0.5000083591954023 0.5028736408045977 0.49823751777357955 0.5046444822264204\n"
     ]
    }
   ],
   "source": [
    "cltLower = expected_value - ((2 * sd) / np.sqrt(total1))\n",
    "cltUpper = expected_value + ((2 * sd) / np.sqrt(total1))\n",
    "chebLower = expected_value - (sd / np.sqrt(0.05 * total1))\n",
    "chebUpper = expected_value + (sd / np.sqrt(0.05 * total1))\n",
    "print(cltLower, cltUpper, chebLower, chebUpper)"
   ]
  },
  {
   "cell_type": "code",
   "execution_count": 325,
   "metadata": {},
   "outputs": [
    {
     "data": {
      "image/png": "[encoded data removed]",
      "text/plain": [
       "<Figure size 432x288 with 1 Axes>"
      ]
     },
     "metadata": {
      "needs_background": "light"
     },
     "output_type": "display_data"
    }
   ],
   "source": [
    "x = [0,1]\n",
    "y = [expected_value, expected_value]\n",
    "my_xticks = ['Full Sample Clt', 'Full Sample Cheb']\n",
    "y_err_min = [expected_value - cltLower, expected_value - chebLower]\n",
    "y_err_max = [cltUpper - expected_value, chebUpper - expected_value]\n",
    "y_err = [y_err_min, y_err_max]\n",
    "plt.xticks(x, my_xticks)\n",
    "plt.errorbar(x, y, yerr=y_err, fmt='o')\n",
    "plt.show()"
   ]
  },
  {
   "cell_type": "markdown",
   "metadata": {},
   "source": [
    "## Question 2"
   ]
  },
  {
   "cell_type": "markdown",
   "metadata": {},
   "source": [
    "## Question 2a"
   ]
  },
  {
   "cell_type": "code",
   "execution_count": 326,
   "metadata": {},
   "outputs": [
    {
     "data": {
      "text/plain": [
       "1    365\n",
       "3    350\n",
       "2    343\n",
       "0    330\n",
       "Name: 1, dtype: int64"
      ]
     },
     "execution_count": 326,
     "metadata": {},
     "output_type": "execute_result"
    }
   ],
   "source": [
    "supermarketData[1].value_counts()"
   ]
  },
  {
   "cell_type": "code",
   "execution_count": 327,
   "metadata": {},
   "outputs": [
    {
     "data": {
      "text/html": [
       "<div>\n",
       "<style scoped>\n",
       "    .dataframe tbody tr th:only-of-type {\n",
       "        vertical-align: middle;\n",
       "    }\n",
       "\n",
       "    .dataframe tbody tr th {\n",
       "        vertical-align: top;\n",
       "    }\n",
       "\n",
       "    .dataframe thead th {\n",
       "        text-align: right;\n",
       "    }\n",
       "</style>\n",
       "<table border=\"1\" class=\"dataframe\">\n",
       "  <thead>\n",
       "    <tr style=\"text-align: right;\">\n",
       "      <th></th>\n",
       "      <th>0</th>\n",
       "      <th>1</th>\n",
       "      <th>2</th>\n",
       "    </tr>\n",
       "  </thead>\n",
       "  <tbody>\n",
       "    <tr>\n",
       "      <th>0</th>\n",
       "      <td>1</td>\n",
       "      <td>2</td>\n",
       "      <td>1</td>\n",
       "    </tr>\n",
       "    <tr>\n",
       "      <th>4</th>\n",
       "      <td>1</td>\n",
       "      <td>0</td>\n",
       "      <td>1</td>\n",
       "    </tr>\n",
       "    <tr>\n",
       "      <th>5</th>\n",
       "      <td>1</td>\n",
       "      <td>2</td>\n",
       "      <td>0</td>\n",
       "    </tr>\n",
       "    <tr>\n",
       "      <th>7</th>\n",
       "      <td>1</td>\n",
       "      <td>0</td>\n",
       "      <td>2</td>\n",
       "    </tr>\n",
       "    <tr>\n",
       "      <th>8</th>\n",
       "      <td>1</td>\n",
       "      <td>0</td>\n",
       "      <td>1</td>\n",
       "    </tr>\n",
       "    <tr>\n",
       "      <th>...</th>\n",
       "      <td>...</td>\n",
       "      <td>...</td>\n",
       "      <td>...</td>\n",
       "    </tr>\n",
       "    <tr>\n",
       "      <th>1380</th>\n",
       "      <td>1</td>\n",
       "      <td>2</td>\n",
       "      <td>0</td>\n",
       "    </tr>\n",
       "    <tr>\n",
       "      <th>1381</th>\n",
       "      <td>1</td>\n",
       "      <td>1</td>\n",
       "      <td>3</td>\n",
       "    </tr>\n",
       "    <tr>\n",
       "      <th>1383</th>\n",
       "      <td>1</td>\n",
       "      <td>1</td>\n",
       "      <td>2</td>\n",
       "    </tr>\n",
       "    <tr>\n",
       "      <th>1384</th>\n",
       "      <td>1</td>\n",
       "      <td>0</td>\n",
       "      <td>3</td>\n",
       "    </tr>\n",
       "    <tr>\n",
       "      <th>1385</th>\n",
       "      <td>1</td>\n",
       "      <td>0</td>\n",
       "      <td>3</td>\n",
       "    </tr>\n",
       "  </tbody>\n",
       "</table>\n",
       "<p>696 rows × 3 columns</p>\n",
       "</div>"
      ],
      "text/plain": [
       "      0  1  2\n",
       "0     1  2  1\n",
       "4     1  0  1\n",
       "5     1  2  0\n",
       "7     1  0  2\n",
       "8     1  0  1\n",
       "...  .. .. ..\n",
       "1380  1  2  0\n",
       "1381  1  1  3\n",
       "1383  1  1  2\n",
       "1384  1  0  3\n",
       "1385  1  0  3\n",
       "\n",
       "[696 rows x 3 columns]"
      ]
     },
     "execution_count": 327,
     "metadata": {},
     "output_type": "execute_result"
    }
   ],
   "source": [
    "one = supermarketData[supermarketData[0] == 1]\n",
    "one"
   ]
  },
  {
   "cell_type": "code",
   "execution_count": 328,
   "metadata": {},
   "outputs": [
    {
     "data": {
      "text/plain": [
       "330"
      ]
     },
     "execution_count": 328,
     "metadata": {},
     "output_type": "execute_result"
    }
   ],
   "source": [
    "one_zero = one[one[1] == 0]\n",
    "len(one_zero)"
   ]
  },
  {
   "cell_type": "code",
   "execution_count": 329,
   "metadata": {},
   "outputs": [
    {
     "data": {
      "text/plain": [
       "279"
      ]
     },
     "execution_count": 329,
     "metadata": {},
     "output_type": "execute_result"
    }
   ],
   "source": [
    "one_one = one[one[1] == 1]\n",
    "len(one_one)"
   ]
  },
  {
   "cell_type": "code",
   "execution_count": 330,
   "metadata": {},
   "outputs": [
    {
     "data": {
      "text/plain": [
       "87"
      ]
     },
     "execution_count": 330,
     "metadata": {},
     "output_type": "execute_result"
    }
   ],
   "source": [
    "one_two = one[one[1] == 2]\n",
    "len(one_two)"
   ]
  },
  {
   "cell_type": "code",
   "execution_count": 331,
   "metadata": {},
   "outputs": [
    {
     "data": {
      "text/plain": [
       "0"
      ]
     },
     "execution_count": 331,
     "metadata": {},
     "output_type": "execute_result"
    }
   ],
   "source": [
    "one_three = one[one[1] == 3]\n",
    "len(one_three)"
   ]
  },
  {
   "cell_type": "markdown",
   "metadata": {},
   "source": [
    "## Question 2b"
   ]
  },
  {
   "cell_type": "code",
   "execution_count": 332,
   "metadata": {},
   "outputs": [],
   "source": [
    "total0incol2 = 330\n",
    "total1incol2 = 365\n",
    "total2incol2 = 343\n",
    "total3incol2 = 350\n",
    "sample_mean_0 = 1.0\n",
    "sample_mean_1 = 279/365\n",
    "sample_mean_2 = 87/343\n",
    "sample_mean_3 = 0"
   ]
  },
  {
   "cell_type": "code",
   "execution_count": 333,
   "metadata": {},
   "outputs": [
    {
     "data": {
      "text/html": [
       "<div>\n",
       "<style scoped>\n",
       "    .dataframe tbody tr th:only-of-type {\n",
       "        vertical-align: middle;\n",
       "    }\n",
       "\n",
       "    .dataframe tbody tr th {\n",
       "        vertical-align: top;\n",
       "    }\n",
       "\n",
       "    .dataframe thead th {\n",
       "        text-align: right;\n",
       "    }\n",
       "</style>\n",
       "<table border=\"1\" class=\"dataframe\">\n",
       "  <thead>\n",
       "    <tr style=\"text-align: right;\">\n",
       "      <th></th>\n",
       "      <th>0</th>\n",
       "      <th>1</th>\n",
       "      <th>2</th>\n",
       "    </tr>\n",
       "  </thead>\n",
       "  <tbody>\n",
       "    <tr>\n",
       "      <th>4</th>\n",
       "      <td>1</td>\n",
       "      <td>0</td>\n",
       "      <td>1</td>\n",
       "    </tr>\n",
       "    <tr>\n",
       "      <th>7</th>\n",
       "      <td>1</td>\n",
       "      <td>0</td>\n",
       "      <td>2</td>\n",
       "    </tr>\n",
       "    <tr>\n",
       "      <th>8</th>\n",
       "      <td>1</td>\n",
       "      <td>0</td>\n",
       "      <td>1</td>\n",
       "    </tr>\n",
       "    <tr>\n",
       "      <th>10</th>\n",
       "      <td>1</td>\n",
       "      <td>0</td>\n",
       "      <td>3</td>\n",
       "    </tr>\n",
       "    <tr>\n",
       "      <th>11</th>\n",
       "      <td>1</td>\n",
       "      <td>0</td>\n",
       "      <td>2</td>\n",
       "    </tr>\n",
       "    <tr>\n",
       "      <th>...</th>\n",
       "      <td>...</td>\n",
       "      <td>...</td>\n",
       "      <td>...</td>\n",
       "    </tr>\n",
       "    <tr>\n",
       "      <th>1351</th>\n",
       "      <td>1</td>\n",
       "      <td>0</td>\n",
       "      <td>0</td>\n",
       "    </tr>\n",
       "    <tr>\n",
       "      <th>1366</th>\n",
       "      <td>1</td>\n",
       "      <td>0</td>\n",
       "      <td>2</td>\n",
       "    </tr>\n",
       "    <tr>\n",
       "      <th>1376</th>\n",
       "      <td>1</td>\n",
       "      <td>0</td>\n",
       "      <td>1</td>\n",
       "    </tr>\n",
       "    <tr>\n",
       "      <th>1384</th>\n",
       "      <td>1</td>\n",
       "      <td>0</td>\n",
       "      <td>3</td>\n",
       "    </tr>\n",
       "    <tr>\n",
       "      <th>1385</th>\n",
       "      <td>1</td>\n",
       "      <td>0</td>\n",
       "      <td>3</td>\n",
       "    </tr>\n",
       "  </tbody>\n",
       "</table>\n",
       "<p>330 rows × 3 columns</p>\n",
       "</div>"
      ],
      "text/plain": [
       "      0  1  2\n",
       "4     1  0  1\n",
       "7     1  0  2\n",
       "8     1  0  1\n",
       "10    1  0  3\n",
       "11    1  0  2\n",
       "...  .. .. ..\n",
       "1351  1  0  0\n",
       "1366  1  0  2\n",
       "1376  1  0  1\n",
       "1384  1  0  3\n",
       "1385  1  0  3\n",
       "\n",
       "[330 rows x 3 columns]"
      ]
     },
     "execution_count": 333,
     "metadata": {},
     "output_type": "execute_result"
    }
   ],
   "source": [
    "col2zero = supermarketData[supermarketData[1] == 0]\n",
    "col2zero"
   ]
  },
  {
   "cell_type": "markdown",
   "metadata": {},
   "source": [
    "### Standard deviation and CI for when column2=0"
   ]
  },
  {
   "cell_type": "code",
   "execution_count": 334,
   "metadata": {},
   "outputs": [
    {
     "data": {
      "text/plain": [
       "0.0"
      ]
     },
     "execution_count": 334,
     "metadata": {},
     "output_type": "execute_result"
    }
   ],
   "source": [
    "col2zero['sd'] = (col2zero[0] - sample_mean_0)**2\n",
    "col2zero['sd'].sum()\n",
    "sd_0 = np.sqrt((col2zero['sd'].sum()) / total0incol2 )\n",
    "sd_0"
   ]
  },
  {
   "cell_type": "code",
   "execution_count": 335,
   "metadata": {},
   "outputs": [
    {
     "data": {
      "text/plain": [
       "(1.0, 1.0, 1.0, 1.0)"
      ]
     },
     "execution_count": 335,
     "metadata": {},
     "output_type": "execute_result"
    }
   ],
   "source": [
    "clt0lower = sample_mean_0 - ((2 * sd_0) / np.sqrt(total0incol2))\n",
    "clt0upper = sample_mean_0 + ((2 * sd_0) / np.sqrt(total0incol2))\n",
    "cheb0lower = sample_mean_0 - (sd_0 / np.sqrt(0.05 * total0incol2))\n",
    "cheb0upper = sample_mean_0 + (sd_0 / np.sqrt(0.05 * total0incol2))\n",
    "ci0 = clt0lower, clt0upper, cheb0lower, cheb0upper\n",
    "ci0"
   ]
  },
  {
   "cell_type": "markdown",
   "metadata": {},
   "source": [
    "### Standard deviation and CI for when column2=1"
   ]
  },
  {
   "cell_type": "code",
   "execution_count": 336,
   "metadata": {},
   "outputs": [
    {
     "data": {
      "text/plain": [
       "0.42438347320851244"
      ]
     },
     "execution_count": 336,
     "metadata": {},
     "output_type": "execute_result"
    }
   ],
   "source": [
    "col2zero = supermarketData[supermarketData[1] == 1]\n",
    "col2zero['sd'] = (col2zero[0] - sample_mean_1)**2\n",
    "col2zero['sd'].sum()\n",
    "sd_1 = np.sqrt((col2zero['sd'].sum()) / total1incol2 )\n",
    "sd_1"
   ]
  },
  {
   "cell_type": "code",
   "execution_count": 337,
   "metadata": {},
   "outputs": [
    {
     "data": {
      "text/plain": [
       "(0.7199570691979839,\n",
       " 0.8088100540896873,\n",
       " 0.6650429045330303,\n",
       " 0.8637242187546409)"
      ]
     },
     "execution_count": 337,
     "metadata": {},
     "output_type": "execute_result"
    }
   ],
   "source": [
    "clt1lower = sample_mean_1 - ((2 * sd_1) / np.sqrt(total1incol2))\n",
    "clt1upper = sample_mean_1 + ((2 * sd_1) / np.sqrt(total1incol2))\n",
    "cheb1lower = sample_mean_1 - (sd_1 / np.sqrt(0.05 * total1incol2))\n",
    "cheb1upper = sample_mean_1 + (sd_1 / np.sqrt(0.05 * total1incol2))\n",
    "ci1 = clt1lower, clt1upper, cheb1lower, cheb1upper\n",
    "ci1"
   ]
  },
  {
   "cell_type": "markdown",
   "metadata": {},
   "source": [
    "### Standard deviation and CI for when column2=2"
   ]
  },
  {
   "cell_type": "code",
   "execution_count": 338,
   "metadata": {},
   "outputs": [
    {
     "data": {
      "text/plain": [
       "0.43509639897790386"
      ]
     },
     "execution_count": 338,
     "metadata": {},
     "output_type": "execute_result"
    }
   ],
   "source": [
    "col2zero = supermarketData[supermarketData[1] == 2]\n",
    "col2zero['sd'] = (col2zero[0] - sample_mean_2)**2\n",
    "col2zero['sd'].sum()\n",
    "sd_2 = np.sqrt((col2zero['sd'].sum()) / total2incol2 )\n",
    "sd_2"
   ]
  },
  {
   "cell_type": "code",
   "execution_count": 339,
   "metadata": {},
   "outputs": [
    {
     "data": {
      "text/plain": [
       "(0.20665832025512015,\n",
       " 0.3006303094824892,\n",
       " 0.14858043692216708,\n",
       " 0.3587081928154423)"
      ]
     },
     "execution_count": 339,
     "metadata": {},
     "output_type": "execute_result"
    }
   ],
   "source": [
    "clt2lower = sample_mean_2 - ((2 * sd_2) / np.sqrt(total2incol2))\n",
    "clt2upper = sample_mean_2 + ((2 * sd_2) / np.sqrt(total2incol2))\n",
    "cheb2lower = sample_mean_2 - (sd_2 / np.sqrt(0.05 * total2incol2))\n",
    "cheb2upper = sample_mean_2 + (sd_2 / np.sqrt(0.05 * total2incol2))\n",
    "ci2 = clt2lower, clt2upper, cheb2lower, cheb2upper\n",
    "ci2"
   ]
  },
  {
   "cell_type": "markdown",
   "metadata": {},
   "source": [
    "### Standard deviation and CI for when column2=3"
   ]
  },
  {
   "cell_type": "code",
   "execution_count": 340,
   "metadata": {},
   "outputs": [
    {
     "data": {
      "text/plain": [
       "0.0"
      ]
     },
     "execution_count": 340,
     "metadata": {},
     "output_type": "execute_result"
    }
   ],
   "source": [
    "col2zero = supermarketData[supermarketData[1] == 3]\n",
    "col2zero['sd'] = (col2zero[0] - sample_mean_3)**2\n",
    "col2zero['sd'].sum()\n",
    "sd_3 = np.sqrt((col2zero['sd'].sum()) / total3incol2 )\n",
    "sd_3"
   ]
  },
  {
   "cell_type": "code",
   "execution_count": 341,
   "metadata": {},
   "outputs": [
    {
     "data": {
      "text/plain": [
       "(0.0, 0.0, 0.0, 0.0)"
      ]
     },
     "execution_count": 341,
     "metadata": {},
     "output_type": "execute_result"
    }
   ],
   "source": [
    "clt3lower = sample_mean_3 - ((2 * sd_3) / np.sqrt(total3incol2))\n",
    "clt3upper = sample_mean_3 + ((2 * sd_3) / np.sqrt(total3incol2))\n",
    "cheb3lower = sample_mean_3 - (sd_3 / np.sqrt(0.05 * total3incol2))\n",
    "cheb3upper = sample_mean_3 + (sd_3 / np.sqrt(0.05 * total3incol2))\n",
    "ci3 = clt3lower, clt3upper, cheb3lower, cheb3upper\n",
    "ci3"
   ]
  },
  {
   "cell_type": "markdown",
   "metadata": {},
   "source": [
    "## Question 2c"
   ]
  },
  {
   "cell_type": "code",
   "execution_count": 342,
   "metadata": {},
   "outputs": [
    {
     "data": {
      "image/png": "[encoded data removed]",
      "text/plain": [
       "<Figure size 432x288 with 1 Axes>"
      ]
     },
     "metadata": {
      "needs_background": "light"
     },
     "output_type": "display_data"
    }
   ],
   "source": [
    "x = [0, 0.5, 1, 1.5, 2, 2.5, 3, 3.5]\n",
    "y = [sample_mean_0, sample_mean_0, sample_mean_1, sample_mean_1, sample_mean_2, sample_mean_2, sample_mean_3, sample_mean_3]\n",
    "my_xticks = ['0 clt', '0 cheb', '1 clt', '1 cheb', '2 clt', '2 cheb', '3 clt', '3 cheb']\n",
    "y_err_min = [sample_mean_0 - clt0lower, sample_mean_0 - cheb0lower, sample_mean_1 - clt1lower, sample_mean_1 - cheb1lower, sample_mean_2 - clt2lower, sample_mean_2 - cheb2lower, sample_mean_3 - clt3lower, sample_mean_3 - cheb3lower]\n",
    "y_err_max = [clt0upper - sample_mean_0, cheb0upper - sample_mean_0, clt1upper - sample_mean_1, cheb1upper - sample_mean_1, clt2upper - sample_mean_2, cheb2upper - sample_mean_2, clt3upper - sample_mean_3, cheb3upper - sample_mean_3]\n",
    "y_err = [y_err_min, y_err_max]\n",
    "plt.xticks(x, my_xticks)\n",
    "plt.errorbar(x, y, yerr=y_err, fmt='o')\n",
    "plt.show()"
   ]
  },
  {
   "cell_type": "markdown",
   "metadata": {},
   "source": [
    "## Question 3"
   ]
  },
  {
   "cell_type": "code",
   "execution_count": 343,
   "metadata": {},
   "outputs": [
    {
     "name": "stdout",
     "output_type": "stream",
     "text": [
      "    0  1  2\n",
      "0   1  2  1\n",
      "1   0  2  3\n",
      "2   0  2  2\n",
      "3   0  2  3\n",
      "4   1  0  1\n",
      ".. .. .. ..\n",
      "95  0  2  2\n",
      "96  1  1  0\n",
      "97  1  1  0\n",
      "98  1  0  1\n",
      "99  0  3  0\n",
      "\n",
      "[100 rows x 3 columns]\n"
     ]
    }
   ],
   "source": [
    "supermarketData100 = supermarketData.head(100)\n",
    "print(supermarketData100)"
   ]
  },
  {
   "cell_type": "markdown",
   "metadata": {},
   "source": [
    "### Question 3a"
   ]
  },
  {
   "cell_type": "code",
   "execution_count": 344,
   "metadata": {},
   "outputs": [
    {
     "name": "stdout",
     "output_type": "stream",
     "text": [
      "Question 1b and c but only with 100 first rows\n",
      "standard deviation 0.06861372411737247\n",
      "clt 0.4907843137254902 0.5292156862745098 cheb 0.4670324192558864 0.5529675807441136\n"
     ]
    }
   ],
   "source": [
    "print(\"Question 1b and c but only with 100 first rows\")\n",
    "supermarketData100[0].value_counts().div(100)\n",
    "expected_value100 = 0.51\n",
    "total1100 = 51\n",
    "sd = np.sqrt(((1-expected_value100)**2)/total1100)\n",
    "print(\"standard deviation\", sd)\n",
    "cltLower100 = expected_value100 - ((2 * sd) / np.sqrt(total1100))\n",
    "cltUpper100 = expected_value100 + ((2 * sd) / np.sqrt(total1100))\n",
    "chebLower100 = expected_value100 - (sd / np.sqrt(0.05 * total1100))\n",
    "chebUpper100 = expected_value100 + (sd / np.sqrt(0.05 * total1100))\n",
    "print(\"clt\", cltLower100, cltUpper100, \"cheb\", chebLower100, chebUpper100)"
   ]
  },
  {
   "cell_type": "code",
   "execution_count": 345,
   "metadata": {},
   "outputs": [
    {
     "data": {
      "image/png": "[encoded data removed]",
      "text/plain": [
       "<Figure size 432x288 with 1 Axes>"
      ]
     },
     "metadata": {
      "needs_background": "light"
     },
     "output_type": "display_data"
    }
   ],
   "source": [
    "x = [0,1]\n",
    "y = [expected_value100, expected_value100]\n",
    "my_xticks = ['1st 100 rows Clt', '1st 100 rows Cheb']\n",
    "y_err_min = [expected_value100 - cltLower100, expected_value100 - chebLower100]\n",
    "y_err_max = [cltUpper100 - expected_value100, chebUpper100 - expected_value100]\n",
    "y_err = [y_err_min, y_err_max]\n",
    "plt.xticks(x, my_xticks)\n",
    "plt.errorbar(x, y, yerr=y_err, fmt='o')\n",
    "plt.show()"
   ]
  },
  {
   "cell_type": "markdown",
   "metadata": {},
   "source": [
    "Question 2b and c but only with 100 first rows\n",
    "Edited this script. Changed supermarketData to supermarketData.head(100)"
   ]
  },
  {
   "cell_type": "markdown",
   "metadata": {},
   "source": [
    "### Question 3b"
   ]
  },
  {
   "cell_type": "markdown",
   "metadata": {},
   "source": [
    "Question 2b and c but with column 3. Edited this script. Changed supermarketData[1] to supermarketData[2]."
   ]
  },
  {
   "cell_type": "code",
   "execution_count": null,
   "metadata": {},
   "outputs": [],
   "source": []
  }
 ],
 "metadata": {
  "kernelspec": {
   "display_name": "Python 3",
   "language": "python",
   "name": "python3"
  },
  "language_info": {
   "codemirror_mode": {
    "name": "ipython",
    "version": 3
   },
   "file_extension": ".py",
   "mimetype": "text/x-python",
   "name": "python",
   "nbconvert_exporter": "python",
   "pygments_lexer": "ipython3",
   "version": "3.7.6"
  }
 },
 "nbformat": 4,
 "nbformat_minor": 4
}
